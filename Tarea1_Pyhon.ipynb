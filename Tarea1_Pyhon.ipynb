{
 "cells": [
  {
   "cell_type": "markdown",
   "id": "d605e2d5",
   "metadata": {},
   "source": [
    "### <center><h2> Universidad Regional Amazonica \"Ikiam\"</h2></center>\n",
    "<img src=\"data:image/png;base64,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\" width=150 height=200 />\n",
    " <center><h1 style=\"color:orange\">GBI6 - BIOINFORMÁTICA\n",
    "   </h1></center>\n",
    "   <center><h3> NATASHA DELEG </h3></center>\n",
    "  <center><h4> TAREA 1 PYTON </h4></center>\n",
    "  \n",
    "# Antedentes\n",
    "\n",
    "\n",
    "## Dogma cental \n",
    "El `Dogma central de la biología molecular` es un concepto que ilustra los mecanismos de transmisión y expresión de la herencia genética. Propone que existe  unidireccionalidad en la expresión de la información contenida en los genes de una célula, es decir, que el ADN es transcrito a ARN mensajero y que éste es traducido a proteína propuesto\n",
    "inicialmente por Francis Crick, 1958.\n",
    "\n",
    "<img src=\"http://www.geopaloma.com/biologia_2b/unidades/imagenes/tema5/dogma.gif\" width=500 height=300 />\n",
    "\n",
    "La transcripción ocurre en elnúcleo. Utiliza el ADN como modelo para crear una molécula de ARN. EL ARN luego sale del núcleo y va a un ribosoma en el citoplasma, donde ocurre la traducción. La traducción\n",
    "lee el código genético en el ARNm y crea una proteína.\n",
    "\n",
    "## Transcripción o síntesis del ARN o RNA.\n",
    "\n",
    "La transcripción consiste en la síntesis de ARN tomando como molde ADN y significa el paso de la información contenida en el ADN hacia el ARN. La transferencia de la información del ADN hacia el ARN se realiza siguiendo las reglas de complementaridad de las bases nitrogenadas y es semejante al proceso de transcripción de textos, motivo por el que ha recibido este nombre.El ARN producto de la transcripción recibe el nombre de transcrito.La transcripción es la primera parte del dogma central de la biología molecular: ADN →ARN.Es la transferencia de instrucciones genéticas en el ADN al ARN mensajero (ARNm).Durante la transcripción, se crea una hebra de ARNm que es complementaria a la hebrade ADN.\n",
    "<img src=\"data:image/png;base64,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\" width=500 height=300 />\n",
    "\n",
    "Transcripción. En la transcripción, una cadena molde de ADN va siendo transcripta por una ARN polimerasa en la dirección 3'→5',​ comenzando a nivel de la región promotora, esta ARN polimerasa. La polimerasa de ARN va añadiendo nucleótidos y construye el transcripto primario en la dirección 5'→3'.\n",
    "\n",
    "<img src=\"https://cdn.kastatic.org/ka-perseus-images/4a9a4877df44e4cb540b5124b1fb5aa23b6b0521.png\" width=500 height=300 />\n",
    "\n",
    "## Marcos de lectura\n",
    "\n",
    "En un ARNm, las instrucciones para construir un polipéptido vienen en grupos de tres nucleótidos llamados codones.A continuación, tenemos algunas características clave de los codones\n",
    "* Hay 616161 codones distintos para aminoácidos\n",
    "* Tres codones de \"alto\" indican que el polipéptido ha terminado\n",
    "* Un codón AUG, es la señal de \"inicio\" para comenzar la traducción (además especifica el aminoácido metionina)\n",
    "\n",
    "Estas relaciones entre los codones del ARNm y los aminoácidos se conoce como el código genético.\n",
    "<img src=\"https://cdn.kastatic.org/ka-perseus-images/a736126e791afe019d17e4d1a1e6a10eff462cf5.png\" width=500 height=300 />\n",
    "\n",
    "Tabla del código genético. Cada secuencia de tres letras de nucleótidos de ARNm corresponde a un aminoácido en específico o a un codón de terminación. UGA, UAG y UAA son codones de terminación. AUG es el codón de metionina además de ser el codón de\n",
    "inicio."
   ]
  },
  {
   "cell_type": "code",
   "execution_count": 1,
   "id": "42bc9864",
   "metadata": {},
   "outputs": [
    {
     "data": {
      "text/plain": [
       "'AAGGACCNGACATCCATCGCTGATGTCAATCCCCCGTGGATCGTAAGTCCGGGAGTAGGAGGAGGAAGGGTCGTCCCACAGTGCGAAGAGGCTTCTGACCTACTGACGGTACCTCCTCAGTGTCAGCCTATAGTCGGAGCTCGAGGGAGACTCGGTCCTCTGTAAAAGTCCGAATACCTTTGATGAAGGAGGTCTTCTATAGGACGGTAG'"
      ]
     },
     "execution_count": 1,
     "metadata": {},
     "output_type": "execute_result"
    }
   ],
   "source": [
    "seq1=\"AAGGACCNGACATCCATCGCTGATGTCAATCCCCCGTGGATCGTAAGTCCGGGAGTAGGAGGAGGAAGGGTCGTCCCACAGTGCGAAGAGGCTTCTGACCTACTGACGGTACCTCCTCAGTGTCAGCCTATAGTCGGAGCTCGAGGGAGACTCGGTCCTCTGTAAAAGTCCGAATACCTTTGATGAAGGAGGTCTTCTATAGGACGGTAG\"\n",
    "seq1"
   ]
  },
  {
   "cell_type": "code",
   "execution_count": 2,
   "id": "ad763b76",
   "metadata": {},
   "outputs": [
    {
     "data": {
      "text/plain": [
       "54.29"
      ]
     },
     "execution_count": 2,
     "metadata": {},
     "output_type": "execute_result"
    }
   ],
   "source": [
    "nuc_c = seq1.count(\"C\")\n",
    "nuc_g = seq1.count(\"G\")\n",
    "\n",
    "len_seq1 = len(seq1)\n",
    "\n",
    "percent_GC = 100*(nuc_c + nuc_g)/ len_seq1\n",
    "\n",
    "round(percent_GC,2)"
   ]
  },
  {
   "cell_type": "code",
   "execution_count": 16,
   "id": "dbc5d332",
   "metadata": {},
   "outputs": [
    {
     "name": "stdout",
     "output_type": "stream",
     "text": [
      "AAGGACCGACATCCATCGCTGATGTCAATCCCCCGTGGATCGTAAGTCCGGGAGTAGGAGGAGGAAGGGTCGTCCCACAGTGCGAAGAGGCTTCTGACCTACTGACGGTACCTCCTCAGTGTCAGCCTATAGTCGGAGCTCGAGGGAGACTCGGTCCTCTGTAAAAGTCCGAATACCTTTGATGAAGGAGGTCTTCTATAGGACGGTAG\n",
      "TTCCTGGCTGTAGGTAGCGACTACAGTTAGGGGGCACCTAGCATTCAGGCCCTCATCCTCCTCCTTCCCAGCAGGGTGTCACGCTTCTCCGAAGACTGGATGACTGCCATGGAGGAGTCACAGTCGGATATCAGCCTCGAGCTCCCTCTGAGCCAGGAGACATTTTCAGGCTTATGGAAACTACTTCCTCCAGAAGATATCCTGCCATC\n",
      "CTACCGTCCTATAGAAGACCTCCTTCATCAAAGGTATTCGGACTTTTACAGAGGACCGAGTCTCCCTCGAGCTCCGACTATAGGCTGACACTGAGGAGGTACCGTCAGTAGGTCAGAAGCCTCTTCGCACTGTGGGACGACCCTTCCTCCTCCTACTCCCGGACTTACGATCCACGGGGGATTGACATCAGCGATGGATGTCGGTCCTT\n"
     ]
    }
   ],
   "source": [
    "seq1_temp = seq1.replace(\"A\", \"t\")\n",
    "seq1_temp = seq1_temp.replace(\"T\", \"a\")\n",
    "seq1_temp = seq1_temp.replace(\"C\", \"g\")\n",
    "seq1_temp = seq1_temp.replace(\"G\", \"c\")\n",
    "cseq1 = seq1_temp.upper()\n",
    "RComp = cseq1[::-1]\n",
    "\n",
    "print(seq1)\n",
    "print(cseq1)\n",
    "print(RComp)"
   ]
  },
  {
   "cell_type": "code",
   "execution_count": 24,
   "id": "1068bcfe",
   "metadata": {},
   "outputs": [
    {
     "data": {
      "text/plain": [
       "'AAGGACCNGACATCCATCGCTGATGTCAATCCCCCGTGGATCGTAAGTCCGGGAGTAG'"
      ]
     },
     "execution_count": 24,
     "metadata": {},
     "output_type": "execute_result"
    }
   ],
   "source": [
    "start = seq1.find(\"AAG\") # Codon de inicio\n",
    "end = seq1.find(\"TAG\") # Codon de final\n",
    "\n",
    "mrna = seq1[start : end +3]\n",
    "mrna"
   ]
  },
  {
   "cell_type": "code",
   "execution_count": 25,
   "id": "e229774b",
   "metadata": {},
   "outputs": [
    {
     "data": {
      "text/plain": [
       "'+++GACCNGACATCCATCGCTGATGTCAATCCCCCGTGGATCGT+++TCCGGGAG***GAGGAGG+++GGTCGTCCCACAGTGCG+++AGGCTTCTGACCTACTGACGGTACCTCCTCAGTGTCAGCCTA***TCGGAGCTCGAGGGAGACTCGGTCCTCTGTAA+++TCCGAATACCTTTGATG+++GAGGTCTTCTA***GACGG***'"
      ]
     },
     "execution_count": 25,
     "metadata": {},
     "output_type": "execute_result"
    }
   ],
   "source": [
    "dna_show = seq1.replace(\"AAG\",\"+++\")\n",
    "dna_show = dna_show.replace(\"TAG\",\"***\") \n",
    "dna_show "
   ]
  },
  {
   "cell_type": "code",
   "execution_count": 17,
   "id": "d99285fa",
   "metadata": {},
   "outputs": [
    {
     "data": {
      "text/plain": [
       "'CTACCGTCCTA***+++ACCTCCTTCATCA+++GTATTCGGACTTTTACAGAGGACCGAGTCTCCCTCGAGCTCCGACTA***GCTGACACTGAGGAGGTACCGTCAG***GTCAG+++CCTCTTCGCACTGTGGGACGACCCTTCCTCCTCCTACTCCCGGACTTACGATCCACGGGGGATTGACATCAGCGATGGATGTCGGTCCTT'"
      ]
     },
     "execution_count": 17,
     "metadata": {},
     "output_type": "execute_result"
    }
   ],
   "source": [
    "rdna_show = RComp.replace(\"AAG\",\"+++\") # Codon de inicio\n",
    "rdna_show = rdna_show.replace(\"TAG\",\"***\") # Codon final \n",
    "rdna_show "
   ]
  },
  {
   "cell_type": "markdown",
   "id": "e5dbac6d",
   "metadata": {},
   "source": [
    "+ Explicar los resultados obtenidos, describiendo los mRNA obtenidos en cada marco de lectura. \n",
    "\n",
    "Se obtuvo como resultado de codón de inicio un triplete AAG que forma el aminoacido Lisina y como codon final TAG un `Stop codon`"
   ]
  },
  {
   "cell_type": "code",
   "execution_count": null,
   "id": "6fe7e310",
   "metadata": {},
   "outputs": [],
   "source": []
  }
 ],
 "metadata": {
  "kernelspec": {
   "display_name": "Python 3 (ipykernel)",
   "language": "python",
   "name": "python3"
  },
  "language_info": {
   "codemirror_mode": {
    "name": "ipython",
    "version": 3
   },
   "file_extension": ".py",
   "mimetype": "text/x-python",
   "name": "python",
   "nbconvert_exporter": "python",
   "pygments_lexer": "ipython3",
   "version": "3.9.12"
  }
 },
 "nbformat": 4,
 "nbformat_minor": 5
}
